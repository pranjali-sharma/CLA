{
  "nbformat": 4,
  "nbformat_minor": 0,
  "metadata": {
    "colab": {
      "name": "COMS3251_Lab3_Dist.ipynb",
      "provenance": [],
      "collapsed_sections": [],
      "include_colab_link": true
    },
    "kernelspec": {
      "name": "python3",
      "display_name": "Python 3"
    }
  },
  "cells": [
    {
      "cell_type": "markdown",
      "metadata": {
        "id": "view-in-github",
        "colab_type": "text"
      },
      "source": [
        "<a href=\"https://colab.research.google.com/github/pranjali-sharma/CLA2/blob/master/COMS3251_Lab3_Dist.ipynb\" target=\"_parent\"><img src=\"https://colab.research.google.com/assets/colab-badge.svg\" alt=\"Open In Colab\"/></a>"
      ]
    },
    {
      "cell_type": "markdown",
      "metadata": {
        "id": "QhBVDxSrIiE5",
        "colab_type": "text"
      },
      "source": [
        "# COMS 3251 CLA Lab 3: COVID-19\n",
        "\n",
        "\n",
        "\n",
        "---\n",
        "\n",
        "Pranjali Sharma, ps3072"
      ]
    },
    {
      "cell_type": "markdown",
      "metadata": {
        "id": "vmxOLxmbT5zs",
        "colab_type": "text"
      },
      "source": [
        "*We realize that the subject of this lab is an ongoing global pandemic and the source of much stress in many people's current lives. However, as future Columbia graduates, many of you will be in leadership and managment positions that will require confronting unpleasant situations head on in order to find solutions to ultimately help society. This lab will ask you to analyze the trends of real-time data tracking the ongoing crisis.*\n",
        "\n",
        "# Importing the Data Set\n",
        "\n",
        "The Johns Hopkins University Center for Systems Science and Engineering (JHU CSSE) has been tracking and regularly updating a repository of globally known cases, deaths, and recoveries from the ongoing COVID-19 pandemic. It is accessible from a public GitHub repo [here](https://github.com/CSSEGISandData/COVID-19). Daily case reports and time series data are stored in /csse_covid_19_data/. WHO situation reports are also available in /who_covid_19_situation_reports/.\n",
        "\n",
        "Download the `time_series_covid19_confirmed_global.csv` file provided to you with this assignment **(not from the repo above... yet)**. This includes all case numbers up to March 26. Once you have the data stored locally, upload it to Jupyter Notebook by clicking the folder icon on the sidebar and clicking \"Upload\" (you'll have to do this every time you start a new session). Then run the code below to import the data."
      ]
    },
    {
      "cell_type": "code",
      "metadata": {
        "id": "8KZj6DrKhREj",
        "colab_type": "code",
        "colab": {}
      },
      "source": [
        "### RUN THIS FIRST TO IMPORT DATA ###\n",
        "\n",
        "import pandas as pd\n",
        "import numpy as np\n",
        "import numpy.linalg as npl\n",
        "import matplotlib.pyplot as plt\n",
        "\n",
        "ts = pd.read_csv('/content/time_series_covid19_confirmed_global.csv')\n",
        "data = ts.values\n",
        "\n",
        "# n is number of days for which we have data on case numbers\n",
        "# First four fields of each row in csv file are geographical metadata\n",
        "n = np.size(data,1) - 4\n",
        "\n",
        "# t will be the horizontal axis for many of the following time series plots\n",
        "t = np.arange(n)"
      ],
      "execution_count": 0,
      "outputs": []
    },
    {
      "cell_type": "markdown",
      "metadata": {
        "id": "u8aNDrqfd5gM",
        "colab_type": "text"
      },
      "source": [
        "# CHINA\n",
        "Let's look at how COVID-19 evolved in China, where the first cases of the virus were reported. We're going to look at the trajectory of cases in Hubei province, as well as the country of China as a whole, over time. "
      ]
    },
    {
      "cell_type": "markdown",
      "metadata": {
        "id": "jQC69Dwqc-nW",
        "colab_type": "text"
      },
      "source": [
        "## Problem 1a (10 points)\n",
        "Use the [`numpy.where`](https://docs.scipy.org/doc/numpy/reference/generated/numpy.where.html) function to find the row index of the Hubei data, as well as all the row indices for each Chinese province. Sum up all of the China rows data ([`numpy.sum`](https://docs.scipy.org/doc/numpy/reference/generated/numpy.sum.html)) into a single-row array. Then plot a scatter plot overlaid with both the Hubei and cumulative China data. Please also include a[ legend ](https://matplotlib.org/3.2.1/api/_as_gen/matplotlib.pyplot.legend.html) in your plot to differentiate the two data sets.\n",
        "\n",
        "*Hint: The first four columns are geographical metadata, so you'll want to start plotting data from the fifth column onward.*\n",
        "\n",
        "It should look similar to this:\n",
        "\n",
        "<img src=\"http://jakehlee.com/cla-s2020/china.png\">"
      ]
    },
    {
      "cell_type": "code",
      "metadata": {
        "id": "yox-ChezxLmt",
        "colab_type": "code",
        "outputId": "7c73d641-7299-4740-e10e-c00a029d3a5d",
        "colab": {
          "base_uri": "https://localhost:8080/",
          "height": 265
        }
      },
      "source": [
        "# 1a CODE GOES HERE #\n",
        "\n",
        "result=np.where(data==\"China\")\n",
        "#print(\"Row #s of China= \",result[0])\n",
        "begin=result[0][0]\n",
        "end=result[0][-1]\n",
        "\n",
        "\n",
        "China= data[begin:end+1].sum(0)\n",
        "China=China[4:]\n",
        "#print(\"Sum of all China rows= \",China) \n",
        "\n",
        "HubeiResult=np.where(data==\"Hubei\")\n",
        "#print(\"Hubei row # = \",HubeiResult[0])\n",
        "Hubei=data[HubeiResult[0]][0]\n",
        "Hubei=Hubei[4:]\n",
        "HubeiScatter=plt.scatter(t, Hubei)\n",
        "\n",
        "ChinaScatter=plt.scatter(t, China)\n",
        "plt.legend((HubeiScatter, ChinaScatter), (\"Hubei\",\"China\"))\n",
        "\n",
        "\n",
        "# DO NOT MODIFY #\n",
        "plt.show()"
      ],
      "execution_count": 0,
      "outputs": [
        {
          "output_type": "display_data",
          "data": {
            "image/png": "[encoded data removed]",
            "text/plain": [
              "<Figure size 432x288 with 1 Axes>"
            ]
          },
          "metadata": {
            "tags": [],
            "needs_background": "light"
          }
        }
      ]
    },
    {
      "cell_type": "markdown",
      "metadata": {
        "id": "Wdg7fyfn2CZ3",
        "colab_type": "text"
      },
      "source": [
        "## Problem 1b (10 points)\n",
        "As you can hopefully see from your output, China's reported data shows that they managed to flatten their curves. Let's use linear regression to fit functions to each of them. The data itself is obviously non-linear, so a good alternative would be to try polynomial basis functions:\n",
        "$$ \\{1, x, x^2, \\ldots\\} $$\n",
        "\n",
        "Follow the example from **lecture 13** and try a number of polynomial fits with different degrees. Settle on a minimal polynomial degree that fits reasonably well for both the Hubei and China data sets. Plot the scatter plot from above again, and overlay the two fits on top of them in different colors.\n",
        "\n",
        "*Note: If you get a type casting error, you may have to cast your numpy array data as a float type. For example, if `x` is your array, you can cast it by replacing it with `np.array(x, dtype='float')`.*"
      ]
    },
    {
      "cell_type": "code",
      "metadata": {
        "id": "xnb_1FWADYjD",
        "colab_type": "code",
        "outputId": "4c56924e-08cb-41ef-f530-3351e714c3ba",
        "colab": {
          "base_uri": "https://localhost:8080/",
          "height": 282
        }
      },
      "source": [
        "# 1b CODE GOES HERE #\n",
        "n = len(China)\n",
        "# Form the design matrix with column of 1s and column of data\n",
        "X = np.column_stack((np.ones(n), np.arange(n), np.power(np.arange(n),2), np.power(np.arange(n),3), np.power(np.arange(n),4),  np.power(np.arange(n),5) ))\n",
        "#print(\"X =\", X)\n",
        "\n",
        "# Solve the least squares problem\n",
        "sol = npl.lstsq(np.array(X, dtype='float'), np.array(China, dtype='float'), rcond=None)\n",
        "#print(sol)\n",
        "beta = sol[0]\n",
        "SSE = sol[1]\n",
        "\n",
        "# Overlay trend line on data\n",
        "plt.scatter(np.arange(n), China)\n",
        "plt.plot(np.arange(n), X @ beta, 'r')\n",
        "#print(\"beta China =\", beta)\n",
        "#print(\"RMS China = \", np.sqrt(SSE/n))\n",
        "\n",
        "# Residual vector can be interpreted as de-trended time series\n",
        "#plt.scatter(np.arange(n), China - X @ beta)\n",
        "\n",
        "m = len(Hubei)\n",
        "print(m)\n",
        "# Form the design matrix with column of 1s and column of data\n",
        "X_H= np.column_stack((np.ones(m), np.arange(m), np.power(np.arange(m),2), np.power(np.arange(m),3), np.power(np.arange(m),4),  np.power(np.arange(m),5) ))\n",
        "#print(\"X =\", X)\n",
        "\n",
        "# Solve the least squares problem\n",
        "sol_H = npl.lstsq(np.array(X_H, dtype='float'), np.array(Hubei, dtype='float'), rcond=None)\n",
        "#print(sol)\n",
        "beta_H = sol_H[0]\n",
        "SSE_H = sol_H[1]\n",
        "\n",
        "# Overlay trend line on data\n",
        "plt.scatter(np.arange(m), Hubei)\n",
        "plt.plot(np.arange(m), X_H @ beta_H, 'g')\n",
        "#print(\"beta Hubei =\", beta_H)\n",
        "#print(\"RMS Hubei = \", np.sqrt(SSE_H/m))\n",
        "\n",
        "# DO NOT MODIFY #\n",
        "plt.show()"
      ],
      "execution_count": 0,
      "outputs": [
        {
          "output_type": "stream",
          "text": [
            "65\n"
          ],
          "name": "stdout"
        },
        {
          "output_type": "display_data",
          "data": {
            "image/png": "[encoded data removed]",
            "text/plain": [
              "<Figure size 432x288 with 1 Axes>"
            ]
          },
          "metadata": {
            "tags": [],
            "needs_background": "light"
          }
        }
      ]
    },
    {
      "cell_type": "markdown",
      "metadata": {
        "id": "htY1gSGCUvXM",
        "colab_type": "text"
      },
      "source": [
        "## Problem 1c (5 points)\n",
        "Do you think your polynomial fits would be suitable for prediction? In other words, if you extrapolate the fits into the future (say 10 days or 30 days), would the predicted number of cases be realistic? Explain why or why not."
      ]
    },
    {
      "cell_type": "markdown",
      "metadata": {
        "id": "ZNaeFob7VQAm",
        "colab_type": "text"
      },
      "source": [
        "\n",
        "Not the best fit for prediction. If this fit is extrapolated into the future, the predicted number of cases will not be realistic. The fit found by using this method is not very accurate and if extrapolated for future use, it will not give realistic results."
      ]
    },
    {
      "cell_type": "markdown",
      "metadata": {
        "id": "FO2mrcjjFjCH",
        "colab_type": "text"
      },
      "source": [
        "# SOUTH KOREA\n",
        "\n",
        "Let's now look at South Korea, which acted quickly and prevented the outbreak from growing uncontrolled. "
      ]
    },
    {
      "cell_type": "markdown",
      "metadata": {
        "id": "QC0DkNMWdImd",
        "colab_type": "text"
      },
      "source": [
        "## Problem 2a (5 points)\n",
        "Start off by making a scatter plot of the COVID-19 cases over time just like you did with the China data. The label is \"Korea, South\", which you'll use in the `where` function.\n",
        "\n",
        "It should look similar to this:\n",
        "\n",
        "<img src=\"http://jakehlee.com/cla-s2020/korea.png\">"
      ]
    },
    {
      "cell_type": "code",
      "metadata": {
        "id": "SF6g_niqZJZo",
        "colab_type": "code",
        "outputId": "f1fab884-17aa-4bf2-afd6-24138c55bd8d",
        "colab": {
          "base_uri": "https://localhost:8080/",
          "height": 265
        }
      },
      "source": [
        "# 2a CODE GOES HERE #\n",
        "SKResult=np.where(data==\"Korea, South\")\n",
        "SK=data[SKResult[0]][0]\n",
        "SK=SK[4:]\n",
        "\n",
        "SKScatter=plt.scatter(t, SK)\n",
        "\n",
        "# DO NOT MODIFY #\n",
        "plt.show()"
      ],
      "execution_count": 0,
      "outputs": [
        {
          "output_type": "display_data",
          "data": {
            "image/png": "[encoded data removed]",
            "text/plain": [
              "<Figure size 432x288 with 1 Axes>"
            ]
          },
          "metadata": {
            "tags": [],
            "needs_background": "light"
          }
        }
      ]
    },
    {
      "cell_type": "markdown",
      "metadata": {
        "id": "OuolgQw9ZvyW",
        "colab_type": "text"
      },
      "source": [
        "## Problem 2b (10 points)\n",
        "We saw that a polynomial fits reasonably well on the China data, but it was not the best fit for prediction. A more flexible model would be an auto-regressive model, which explicitly uses past data to make future predictions: \n",
        "\n",
        "$$ \\hat z_{t+1} = \\theta_1 z_t + ... + \\theta_M z_{t-M+1} $$\n",
        "\n",
        "Recall that $M$ denotes the memory length of the model; e.g., if $M=1$ then $\\hat z_{t+1} = \\theta_1 z_t$. Follow the example from lecture 13 to construct the design matrix $X$ for $M=16$ (avoid the manual method, as you'll try different values of $M$ after this), and then use linear regression to learn the $\\theta_i$ parameters. Display the regression fit on top of the scatter plot in a different color."
      ]
    },
    {
      "cell_type": "code",
      "metadata": {
        "id": "vs622_MReSV1",
        "colab_type": "code",
        "outputId": "88616738-2ac8-4b4f-ff31-585b03e94c40",
        "colab": {
          "base_uri": "https://localhost:8080/",
          "height": 333
        }
      },
      "source": [
        "# 2b CODE GOES HERE #\n",
        "M=16\n",
        "N=len(SK)\n",
        "y=SK[M:]\n",
        "\n",
        "idx,_ = np.mgrid[0:N-M, 0:M] + np.arange(0,M)\n",
        "X = SK[idx]\n",
        "\n",
        "sol = npl.lstsq(np.array(X, dtype='float'), np.array(y,dtype='float'), rcond=None)\n",
        "beta = sol[0]\n",
        "SSE = sol[1]\n",
        "\n",
        "plt.scatter(np.arange(N), SK)\n",
        "plt.plot(np.arange(M,N), X @ beta, 'r')\n",
        "print(\"beta =\", beta)\n",
        "print(\"RMS = \", np.sqrt(SSE/len(y)))\n",
        "\n",
        "\n",
        "# DO NOT MODIFY #\n",
        "plt.show()"
      ],
      "execution_count": 0,
      "outputs": [
        {
          "output_type": "stream",
          "text": [
            "beta = [ 0.14889453 -0.2418623  -0.02400417 -0.01694065  0.13704736  0.10499793\n",
            "  0.15724235 -0.46116734  0.26317728  0.08003825 -0.22261246  0.21547611\n",
            " -0.40507472  0.03398181 -0.45627384  1.68790632]\n",
            "RMS =  [96.09306385]\n"
          ],
          "name": "stdout"
        },
        {
          "output_type": "display_data",
          "data": {
            "image/png": "[encoded data removed]",
            "text/plain": [
              "<Figure size 432x288 with 1 Axes>"
            ]
          },
          "metadata": {
            "tags": [],
            "needs_background": "light"
          }
        }
      ]
    },
    {
      "cell_type": "code",
      "metadata": {
        "id": "acBraG4W2Anq",
        "colab_type": "code",
        "colab": {}
      },
      "source": [
        ""
      ],
      "execution_count": 0,
      "outputs": []
    },
    {
      "cell_type": "markdown",
      "metadata": {
        "id": "IYJ3kNa-DyMn",
        "colab_type": "text"
      },
      "source": [
        "## Problem 2c (10 points)\n",
        "Let's now use our learned auto-regressive model to perform prediction for the next 15 days in South Korea. Write code below to predict the number of cases for each of the next 15 days past the data in the data set. When you are finished, plot all past and future predictions on one fitted line (no need to overlay the scatter plot again here)."
      ]
    },
    {
      "cell_type": "code",
      "metadata": {
        "id": "dNFIuEoR5Wdi",
        "colab_type": "code",
        "outputId": "e6d63aa3-524f-4e25-b553-5952581c2331",
        "colab": {
          "base_uri": "https://localhost:8080/",
          "height": 265
        }
      },
      "source": [
        "# 2c CODE GOES HERE #\n",
        "SK1=np.array(SK)\n",
        "N=len(SK1)\n",
        "y=SK1[M:]\n",
        "\n",
        "idx,_ = np.mgrid[0:N+15-M, 0:M] + np.arange(0,M)\n",
        "\n",
        "\n",
        "#sol = npl.lstsq(np.array(X, dtype='float'), np.array(y,dtype='float'), rcond=None)\n",
        "beta = sol[0]\n",
        "\n",
        "zhat= np.zeros(16)\n",
        "\n",
        " # print(i)\n",
        " # print((beta[i]))\n",
        " # print((X[len(X)-1-i]))\n",
        "for i in range(0,15):\n",
        "  theta_z=beta@SK1[idx[i+N-M]]\n",
        "  SK1=np.append(SK1,[theta_z])\n",
        "  # X=np.vstack([X, theta_z])\n",
        "  # row_idx=idx[i+N-M]\n",
        " # print(theta_z)\n",
        "\n",
        "X = SK1[idx]\n",
        "plt.plot(np.arange(M,N+15), X@beta, 'r')\n",
        "\n",
        "# DO NOT MODIFY #\n",
        "plt.show()"
      ],
      "execution_count": 0,
      "outputs": [
        {
          "output_type": "display_data",
          "data": {
            "image/png": "[encoded data removed]",
            "text/plain": [
              "<Figure size 432x288 with 1 Axes>"
            ]
          },
          "metadata": {
            "tags": [],
            "needs_background": "light"
          }
        }
      ]
    },
    {
      "cell_type": "markdown",
      "metadata": {
        "id": "LFPg-qQhFUha",
        "colab_type": "text"
      },
      "source": [
        "## Problem 2d (5 points)\n",
        "Briefly describe the nature of the case trajectory in the future. Is the number of cases in South Korea predicted to rise, fall, or remain about the same? Now go back and run the above two segments of code for different values of $M$, both smaller and larger than 16 (you don't need to show the results of these). Describe how the choice of this parameter can affect future predictions."
      ]
    },
    {
      "cell_type": "markdown",
      "metadata": {
        "id": "Se1aepa2Fq1S",
        "colab_type": "text"
      },
      "source": [
        "The trajectory seems to rise with a gentle slope. This means that the number of cases is expected to rise in South Korea. Smaller M makes the results dependent only on the very latest values, making it more independent and unpredictable. Having larger M values makes the predictions more dependent on previous values and less independent."
      ]
    },
    {
      "cell_type": "markdown",
      "metadata": {
        "id": "7hoe86haFnC2",
        "colab_type": "text"
      },
      "source": [
        "# ITALY\n",
        "\n",
        "After China peaked, Italy was the next hardest-hit country in numbers of cases and deaths."
      ]
    },
    {
      "cell_type": "markdown",
      "metadata": {
        "id": "LQ68vTsCdaWm",
        "colab_type": "text"
      },
      "source": [
        "## Problem 3a (5 points)\n",
        "Start again by making a scatter plot of Italy's case trajectory.\n",
        "\n",
        "It should look similar to this:\n",
        "\n",
        "<img src=\"http://jakehlee.com/cla-s2020/italy.png\">"
      ]
    },
    {
      "cell_type": "code",
      "metadata": {
        "id": "MwS7EU5IG7KM",
        "colab_type": "code",
        "outputId": "c3f93107-188e-440d-c662-401b91c80f11",
        "colab": {
          "base_uri": "https://localhost:8080/",
          "height": 265
        }
      },
      "source": [
        "# 3a CODE GOES HERE #\n",
        "ItalyResult=np.where(data==\"Italy\")\n",
        "Italy=data[ItalyResult[0]][0]\n",
        "Italy=Italy[4:]\n",
        "\n",
        "ItalyScatter=plt.scatter(t, Italy)\n",
        "# DO NOT MODIFY #\n",
        "plt.show()"
      ],
      "execution_count": 0,
      "outputs": [
        {
          "output_type": "display_data",
          "data": {
            "image/png": "[encoded data removed]",
            "text/plain": [
              "<Figure size 432x288 with 1 Axes>"
            ]
          },
          "metadata": {
            "tags": [],
            "needs_background": "light"
          }
        }
      ]
    },
    {
      "cell_type": "markdown",
      "metadata": {
        "id": "bGOqB8McQEJM",
        "colab_type": "text"
      },
      "source": [
        "## Problem 3b (10 points)\n",
        "The number of cases clearly follows an exponential growth. From the data alone though, it's hard to identify what the rate of growth should be. So let's again try a polynomial basis--the reason that this can substitute for an exponential basis function is because the Taylor expansion of an exponential function consists of a sum of polynomials. So as long as we have enough polynomial functions, an exponential can be approximated reasonably well:\n",
        "\n",
        "$$ \\hat f(x) = \\beta \\exp(cx) = \\sum_{i=0}^\\infty \\beta_i x^i $$\n",
        "\n",
        "Use linear regression to fit polynomial basis functions up to $x^6$. Your code here should be very similar to what you wrote for the China data. In addition to overlaying the fit on top of the data, show what the root-mean-square (RMS) error is, as well as the beta coefficients."
      ]
    },
    {
      "cell_type": "code",
      "metadata": {
        "id": "uJuKcJkgQhdS",
        "colab_type": "code",
        "outputId": "09eadff1-276a-429a-92c3-b47925ce9881",
        "colab": {
          "base_uri": "https://localhost:8080/",
          "height": 316
        }
      },
      "source": [
        "# 3b CODE GOES HERE #\n",
        "n = len(Italy)\n",
        "# Form the design matrix with column of 1s and column of data\n",
        "X = np.column_stack((np.ones(n), np.arange(n), np.power(np.arange(n),2), np.power(np.arange(n),3), np.power(np.arange(n),4),  np.power(np.arange(n),5), np.power(np.arange(n),6) ))\n",
        "#print(\"X =\", X)\n",
        "\n",
        "# Solve the least squares problem\n",
        "sol = npl.lstsq(np.array(X, dtype='float'), np.array(Italy, dtype='float'), rcond=None)\n",
        "#print(sol)\n",
        "beta = sol[0]\n",
        "SSE = sol[1]\n",
        "\n",
        "# Overlay trend line on data\n",
        "plt.scatter(np.arange(n), Italy)\n",
        "plt.plot(np.arange(n), X @ beta, 'r')\n",
        "\n",
        "\n",
        "# ASSIGN THESE VARIABLES #\n",
        "RMS = np.sqrt(SSE/n)\n",
        "beta = beta\n",
        "\n",
        "# DO NOT MODIFY #\n",
        "plt.show()\n",
        "print(\"The RMS error of the fit is\", RMS)\n",
        "print(\"The beta coefficients are\", beta)\n"
      ],
      "execution_count": 0,
      "outputs": [
        {
          "output_type": "display_data",
          "data": {
            "image/png": "[encoded data removed]",
            "text/plain": [
              "<Figure size 432x288 with 1 Axes>"
            ]
          },
          "metadata": {
            "tags": [],
            "needs_background": "light"
          }
        },
        {
          "output_type": "stream",
          "text": [
            "The RMS error of the fit is [625.1167907]\n",
            "The beta coefficients are [-7.58111058e+02  7.35828843e+02 -1.43810646e+02  1.07188477e+01\n",
            " -3.63018553e-01  5.55763031e-03 -3.00168637e-05]\n"
          ],
          "name": "stdout"
        }
      ]
    },
    {
      "cell_type": "markdown",
      "metadata": {
        "id": "LOId0hmGZjJn",
        "colab_type": "text"
      },
      "source": [
        "## Problem 3c (10 points)\n",
        "Now examine the $\\beta$ coefficients, as well as the root-mean-square (RMS error) obtained from the regression. You should see that the coefficients generally become smaller at the higher powers, which means that dropping them would not significantly worsen the quality of the fit. At the same time, dropping higher-order terms lowers our model complexity and helps avoid overfitting. \n",
        "\n",
        "Re-fit the Italy data with a reasonably simplified model (you determine how many higher-order terms to drop), overlay the new fit on the data, and find the RMS error of the new fit, as well as the new beta coefficients."
      ]
    },
    {
      "cell_type": "code",
      "metadata": {
        "id": "Kpf12WQCag0b",
        "colab_type": "code",
        "outputId": "637aed0d-c337-456a-9c57-5fc33b9f933f",
        "colab": {
          "base_uri": "https://localhost:8080/",
          "height": 316
        }
      },
      "source": [
        "# 3c CODE GOES HERE #\n",
        "\n",
        "n = len(Italy)\n",
        "# Form the design matrix with column of 1s and column of data\n",
        "X = np.column_stack((np.ones(n), np.arange(n), np.power(np.arange(n),2), np.power(np.arange(n),3), np.power(np.arange(n),4)))\n",
        "#print(\"X =\", X)\n",
        "\n",
        "# Solve the least squares problem\n",
        "sol = npl.lstsq(np.array(X, dtype='float'), np.array(Italy, dtype='float'), rcond=None)\n",
        "#print(sol)\n",
        "beta = sol[0]\n",
        "SSE = sol[1]\n",
        "\n",
        "# Overlay trend line on data\n",
        "plt.scatter(np.arange(n), Italy)\n",
        "plt.plot(np.arange(n), X @ beta, 'r')\n",
        "\n",
        "\n",
        "# ASSIGN THESE VARIABLES #\n",
        "new_RMS = np.sqrt(SSE/n)\n",
        "beta = beta\n",
        "\n",
        "# DO NOT MODIFY #\n",
        "plt.show()\n",
        "print(\"The RMS error of the reduced fit is\", new_RMS)\n",
        "print(\"The beta coefficients are\", beta)"
      ],
      "execution_count": 0,
      "outputs": [
        {
          "output_type": "display_data",
          "data": {
            "image/png": "[encoded data removed]",
            "text/plain": [
              "<Figure size 432x288 with 1 Axes>"
            ]
          },
          "metadata": {
            "tags": [],
            "needs_background": "light"
          }
        },
        {
          "output_type": "stream",
          "text": [
            "The RMS error of the reduced fit is [960.76396151]\n",
            "The beta coefficients are [ 2.49016000e+02 -2.31199110e+02  3.42268064e+01 -1.56800355e+00\n",
            "  2.20144983e-02]\n"
          ],
          "name": "stdout"
        }
      ]
    },
    {
      "cell_type": "markdown",
      "metadata": {
        "id": "66jayQ_PF0fg",
        "colab_type": "text"
      },
      "source": [
        "# UNITED STATES\n",
        "\n",
        "As of the writing of this lab, the United States now leads the world in number of cases. "
      ]
    },
    {
      "cell_type": "markdown",
      "metadata": {
        "id": "x2hsxqX7d5vD",
        "colab_type": "text"
      },
      "source": [
        "## Problem 4a (10 points)\n",
        "As with the other countries, make a scatter plot of the case trajectory in the US (identifier is simply \"US\" in the original data set). Also perform a linear regression with polynomial basis functions and overlay the resulting fit. As with Italy in 3b, use basis functions up to $x^6$. Show the RMS error and beta coefficients.\n",
        "\n",
        "The scatterplot alone should look like this. Your output should have the linear regression overlayed on top of this plot.\n",
        "\n",
        "<img src=\"http://jakehlee.com/cla-s2020/usa.png\">"
      ]
    },
    {
      "cell_type": "code",
      "metadata": {
        "id": "Bk31ohbreInB",
        "colab_type": "code",
        "outputId": "2f2ad6a3-b907-468e-bc5a-1340ea14cae3",
        "colab": {
          "base_uri": "https://localhost:8080/",
          "height": 316
        }
      },
      "source": [
        "# 4a CODE GOES HERE #\n",
        "\n",
        "USResult=np.where(data==\"US\")\n",
        "US=data[USResult[0]][0]\n",
        "US=US[4:]\n",
        "\n",
        "n = len(US)\n",
        "# Form the design matrix with column of 1s and column of data\n",
        "X = np.column_stack((np.ones(n), t, np.power(t,2), np.power(t,3), np.power(t,4), np.power(t,5), np.power(t,6)))\n",
        "#print(\"X =\", X)\n",
        "\n",
        "# Solve the least squares problem\n",
        "sol = npl.lstsq(np.array(X, dtype='float'), np.array(US, dtype='float'), rcond=None)\n",
        "#print(sol)\n",
        "beta = sol[0]\n",
        "SSE = sol[1]\n",
        "\n",
        "# Overlay trend line on data\n",
        "plt.scatter(t, US)\n",
        "plt.plot(t, X @ beta, 'r')\n",
        "\n",
        "# ASSIGN THESE VARIABLES \n",
        "RMS = np.sqrt(SSE/n)\n",
        "beta = beta\n",
        "\n",
        "# DO NOT MODIFY #\n",
        "plt.show()\n",
        "print(\"The RMS error of the reduced fit is\", RMS)\n",
        "print(\"The beta coefficients are\", beta)"
      ],
      "execution_count": 0,
      "outputs": [
        {
          "output_type": "display_data",
          "data": {
            "image/png": "[encoded data removed]",
            "text/plain": [
              "<Figure size 432x288 with 1 Axes>"
            ]
          },
          "metadata": {
            "tags": [],
            "needs_background": "light"
          }
        },
        {
          "output_type": "stream",
          "text": [
            "The RMS error of the reduced fit is [616.38470621]\n",
            "The beta coefficients are [ 8.86625817e+02 -9.21542714e+02  1.91991154e+02 -1.52968611e+01\n",
            "  5.60124844e-01 -9.52658030e-03  6.10666060e-05]\n"
          ],
          "name": "stdout"
        }
      ]
    },
    {
      "cell_type": "markdown",
      "metadata": {
        "id": "Sml0KcvjeiI-",
        "colab_type": "text"
      },
      "source": [
        "## Problem 4b (5 points)\n",
        "Compare the beta coefficients for Italy and the US. Specifically, compare the magnitudes of the first coefficients, the magnitudes of the second coefficients, and so on. What is the general pattern that you see? How do your observations explain the difference in exponential growth rates between the two countries?"
      ]
    },
    {
      "cell_type": "markdown",
      "metadata": {
        "id": "8ZHNk-xwaX1g",
        "colab_type": "text"
      },
      "source": [
        "\n",
        "The magnitudes of all the coefficients for the Italy and US data are the in the same order. The coefficients are different. This shows that there is not much difference in the exponential growth rates between the two countries."
      ]
    },
    {
      "cell_type": "markdown",
      "metadata": {
        "id": "Yn7SS3oXlmnk",
        "colab_type": "text"
      },
      "source": [
        "# Problem 5 (5 points)\n",
        "The global situation is changing day by day, and the data will likely look very different for many countries by the time you actually turn in the lab. For this last part, **you may do this any time after April 6** (a week before the deadline). If you finish the lab before then, just hold onto it until after \n",
        "April 6.\n",
        "1.   Make a copy of this Jupyter notebook. You will still be turning this one in, but you'll be running the copy and then recording your observations here.\n",
        "2.   Download the latest data from the JHU CSSE repo. The file is located [here](https://github.com/CSSEGISandData/COVID-19/tree/master/csse_covid_19_data/csse_covid_19_time_series) and has the same name as the one we originally provided you.\n",
        "3.  **In the copy of this notebook**, upload the latest data file and re-run all code cells without making any changes. Again, no need to turn this in.\n",
        "\n",
        "Record on which day you downloaded the data. Compare and contrast the results that you see from applying the same models you found here on the latest data. What still works and what doesn't? Which predictions did or did not pan out correctly? What does this tell you about the challenges of analysis and decision-making during a rapidly changing global situation?\n",
        "\n",
        "\n"
      ]
    },
    {
      "cell_type": "markdown",
      "metadata": {
        "id": "iX7NEvCXr8cW",
        "colab_type": "text"
      },
      "source": [
        "4/14/20. The models of all four countries have only seen an increase in cases. Some models don't fit as they were fitting earlier. But it only take a change in one dimension to improve the fit. There was only one prediction in part 2c which was quite accurate. In a rapidly changing global situation, computer scientists can attempt to predict the future progressions with some accuracy. But getting a 100% accurate model is difficult given several evolving parameters. Several other challenges like this are faced world over during such a situation."
      ]
    }
  ]
}